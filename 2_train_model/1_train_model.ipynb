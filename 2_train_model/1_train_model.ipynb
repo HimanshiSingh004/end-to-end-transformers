{
 "cells": [
  {
   "cell_type": "markdown",
   "metadata": {},
   "source": [
    "# MLOps - NLP Lab with Amazon SageMaker\n",
    "**Step 2** - *Train a sentiment analysis model using Transformers on Amazon SageMaker*"
   ]
  },
  {
   "cell_type": "markdown",
   "metadata": {},
   "source": [
    "## Initialization\n",
    "---\n",
    "### Setup environment"
   ]
  },
  {
   "cell_type": "code",
   "execution_count": null,
   "metadata": {},
   "outputs": [],
   "source": [
    "import os\n",
    "import sagemaker\n",
    "from sagemaker.pytorch import PyTorch as PyTorchEstimator\n",
    "\n",
    "sagemaker_session = sagemaker.Session()\n",
    "role = sagemaker.get_execution_role()\n",
    "bucket = sagemaker_session.default_bucket()"
   ]
  },
  {
   "cell_type": "markdown",
   "metadata": {},
   "source": [
    "### Define data inputs from S3"
   ]
  },
  {
   "cell_type": "code",
   "execution_count": null,
   "metadata": {},
   "outputs": [],
   "source": [
    "input_location_fname = '../1_prepare_data/training_input_location.txt'\n",
    "if os.path.exists(input_location_fname):\n",
    "    with open(input_location_fname, 'r') as f:\n",
    "        s3_input_location = f.readline()\n",
    "\n",
    "    inputs = {'train': s3_input_location}\n",
    "    print(inputs)\n",
    "    \n",
    "else:\n",
    "    print(f'Training input location file not found ({input_location_fname}): check that the previous notebook was fully executed.')"
   ]
  },
  {
   "cell_type": "markdown",
   "metadata": {},
   "source": [
    "## Train the model\n",
    "---"
   ]
  },
  {
   "cell_type": "markdown",
   "metadata": {},
   "source": [
    "As usual, we define our model hyperparameters, define the metric we want to capture, build an Estimator object and launch the training with the `.fit()` method."
   ]
  },
  {
   "cell_type": "code",
   "execution_count": null,
   "metadata": {},
   "outputs": [],
   "source": [
    "# Dictionary of all hyperparameters and variable we want to pass to our training image:\n",
    "hyperparameters={\n",
    "        \"model_name\":\"bert-base-cased\",\n",
    "        \"data_folder\": '/opt/ml/input/data/train',\n",
    "        \"output_folder\": '/opt/ml/model',\n",
    "        \"epochs\": 1,\n",
    "        \"learning_rate\": 2e-5,\n",
    "        \"batch_size\": 64,\n",
    "        \"seed\": 42,\n",
    "        \"max_len\": 160\n",
    "    }\n",
    "\n",
    "# We want to capture the following metric: this would be useful for hyperparameter tuning:\n",
    "metric_definitions = [{'Name': 'validation_accuracy',\n",
    "                       'Regex': 'val_accuracy: ([0-9\\\\.]+)'}]\n",
    "\n",
    "# We define the Estimator object (the one leveraging the PyTorch framework container):\n",
    "estimator = PyTorchEstimator(\n",
    "    entry_point='train.py',\n",
    "    source_dir='source_dir',\n",
    "    role=role,\n",
    "    train_instance_count=1,\n",
    "    train_instance_type='ml.p3.2xlarge',\n",
    "    train_volume_size=50,\n",
    "    hyperparameters=hyperparameters,\n",
    "    metric_definitions=metric_definitions,\n",
    "    framework_version='1.5.0',\n",
    "    py_version='py3',\n",
    ")"
   ]
  },
  {
   "cell_type": "markdown",
   "metadata": {},
   "source": [
    "Let's train this model!"
   ]
  },
  {
   "cell_type": "code",
   "execution_count": null,
   "metadata": {
    "scrolled": true
   },
   "outputs": [],
   "source": [
    "estimator.fit(inputs)"
   ]
  },
  {
   "cell_type": "markdown",
   "metadata": {},
   "source": [
    "Let's persist the model artifact location: this will be useful for deployment in the next step:"
   ]
  },
  {
   "cell_type": "code",
   "execution_count": null,
   "metadata": {},
   "outputs": [],
   "source": [
    "print(estimator.model_data)\n",
    "\n",
    "with open('model_artifact_location.txt', 'w') as f:\n",
    "    f.writelines(estimator.model_data)"
   ]
  }
 ],
 "metadata": {
  "kernelspec": {
   "display_name": "conda_pytorch_p36",
   "language": "python",
   "name": "conda_pytorch_p36"
  },
  "language_info": {
   "codemirror_mode": {
    "name": "ipython",
    "version": 3
   },
   "file_extension": ".py",
   "mimetype": "text/x-python",
   "name": "python",
   "nbconvert_exporter": "python",
   "pygments_lexer": "ipython3",
   "version": "3.6.10"
  }
 },
 "nbformat": 4,
 "nbformat_minor": 4
}
